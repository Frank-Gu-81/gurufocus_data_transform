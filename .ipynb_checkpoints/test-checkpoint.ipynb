{
 "cells": [
  {
   "cell_type": "code",
   "execution_count": 1,
   "id": "66e5422e-b02b-4247-a430-b90eb0195870",
   "metadata": {},
   "outputs": [],
   "source": [
    "import os\n",
    "import pandas as pd\n",
    "# from schema_matching import schema_matching\n",
    "import numpy as np\n",
    "import locale\n",
    "from locale import atof\n",
    "import warnings\n",
    "import itertools\n",
    "import collections\n",
    "import pathlib\n",
    "import csv"
   ]
  },
  {
   "cell_type": "code",
   "execution_count": 2,
   "id": "c20a2d77-7fc6-464d-be16-6c13d98fef37",
   "metadata": {},
   "outputs": [],
   "source": [
    "warnings.simplefilter(action='ignore', category=pd.errors.PerformanceWarning)"
   ]
  },
  {
   "cell_type": "code",
   "execution_count": 3,
   "id": "5290e8c3-9b5f-44f7-a163-18bceaa8b4a6",
   "metadata": {},
   "outputs": [],
   "source": [
    "fileExt_1 = r\"similarity_matrix_value.csv\"\n",
    "fileExt_2 = r\"table2.csv\"\n",
    "matrix_path_name_pairs = []"
   ]
  },
  {
   "cell_type": "code",
   "execution_count": 4,
   "id": "3487667b-8cf7-4acc-8627-bee033dc7ffa",
   "metadata": {},
   "outputs": [],
   "source": [
    "cwd = [x[0] for x in os.walk(os.getcwd())]\n",
    "subdir = [os.path.basename(x) for x in cwd]\n",
    "company_names = []\n",
    "for dir_name in cwd:\n",
    "    company_names.append(dir_name.split('/')[-1].split('_')[-2])\n",
    "repeated_company_names = [item for item, count in collections.Counter(company_names).items() if count > 1]\n",
    "repeated_company_names_copy = repeated_company_names.copy()"
   ]
  },
  {
   "cell_type": "code",
   "execution_count": null,
   "id": "1a6c686a-dab1-4e08-bd86-9da5fbdcf05a",
   "metadata": {},
   "outputs": [],
   "source": [
    "repeated_company_names"
   ]
  },
  {
   "cell_type": "code",
   "execution_count": null,
   "id": "73d735c7-53fe-436d-a306-94801483fbed",
   "metadata": {},
   "outputs": [],
   "source": [
    "len(company_names)"
   ]
  },
  {
   "cell_type": "code",
   "execution_count": null,
   "id": "bebb1594-b553-4d4e-9512-c1e4f1f655f6",
   "metadata": {},
   "outputs": [],
   "source": [
    "! ls|wc -l"
   ]
  },
  {
   "cell_type": "code",
   "execution_count": 5,
   "id": "1b166d06-040c-4059-beff-7741fb21023a",
   "metadata": {},
   "outputs": [],
   "source": [
    "repeated_company_paths = []\n",
    "for subdir, dirs, files in os.walk('./'):\n",
    "    for company_name in repeated_company_names:\n",
    "            if company_name in subdir:\n",
    "                if subdir.split('/')[-1].split('_')[-2] + '_' + subdir.split('/')[-1].split('_')[-1] not in repeated_company_paths:\n",
    "                    repeated_company_paths.append(os.getcwd() + subdir[1:])"
   ]
  },
  {
   "cell_type": "code",
   "execution_count": 34,
   "id": "f911c519-4cec-4f39-be9c-385664858be3",
   "metadata": {},
   "outputs": [],
   "source": [
    "# add new\n",
    "non_repeat_path = []\n",
    "for subdir, dirs, files in os.walk('./'):\n",
    "#         print('subdir', subdir.split('/')[-1])\n",
    "    if subdir.split('/')[-1] != '':\n",
    "#             print(subdir.split('/')[-1].split('_')[-2])\n",
    "        if subdir.split('/')[-1].split('_')[-2] not in repeated_company_names:\n",
    "            non_repeat_path.append(os.getcwd() + subdir[1:])"
   ]
  },
  {
   "cell_type": "code",
   "execution_count": 35,
   "id": "70c57241-cc26-456e-be5e-ca9b2be513ac",
   "metadata": {},
   "outputs": [
    {
     "data": {
      "text/plain": [
       "['/Users/frank/Documents/Research/gurufocus_transfer_v1/china_300219_income',\n",
       " '/Users/frank/Documents/Research/gurufocus_transfer_v1/hongkong_02343_cashflow',\n",
       " '/Users/frank/Documents/Research/gurufocus_transfer_v1/germany_C9T_balancesheet',\n",
       " '/Users/frank/Documents/Research/gurufocus_transfer_v1/korea_068400_balancesheet',\n",
       " '/Users/frank/Documents/Research/gurufocus_transfer_v1/canada_TOY_income',\n",
       " '/Users/frank/Documents/Research/gurufocus_transfer_v1/uk_LAM',\n",
       " '/Users/frank/Documents/Research/gurufocus_transfer_v1/uk_0O8L_income',\n",
       " '/Users/frank/Documents/Research/gurufocus_transfer_v1/us_GFKRF_income',\n",
       " '/Users/frank/Documents/Research/gurufocus_transfer_v1/us_PGTI_income',\n",
       " '/Users/frank/Documents/Research/gurufocus_transfer_v1/us_YWRLF_cashflow',\n",
       " '/Users/frank/Documents/Research/gurufocus_transfer_v1/germany_1ZB_balancesheet',\n",
       " '/Users/frank/Documents/Research/gurufocus_transfer_v1/us_AEIS_income',\n",
       " '/Users/frank/Documents/Research/gurufocus_transfer_v1/taiwan_2820_balancesheet',\n",
       " '/Users/frank/Documents/Research/gurufocus_transfer_v1/china_600213_cashflow',\n",
       " '/Users/frank/Documents/Research/gurufocus_transfer_v1/india_532508_cashflow',\n",
       " '/Users/frank/Documents/Research/gurufocus_transfer_v1/us_ARTTF_income',\n",
       " '/Users/frank/Documents/Research/gurufocus_transfer_v1/us_ECELF_balancesheet',\n",
       " '/Users/frank/Documents/Research/gurufocus_transfer_v1/switzerland_GE_income',\n",
       " '/Users/frank/Documents/Research/gurufocus_transfer_v1/australia_GAL_cashflow',\n",
       " '/Users/frank/Documents/Research/gurufocus_transfer_v1/japan_7058_income',\n",
       " '/Users/frank/Documents/Research/gurufocus_transfer_v1/taiwan_6125_cashflow',\n",
       " '/Users/frank/Documents/Research/gurufocus_transfer_v1/us_LNN_cashflow',\n",
       " '/Users/frank/Documents/Research/gurufocus_transfer_v1/korea_288330_balancesheet',\n",
       " '/Users/frank/Documents/Research/gurufocus_transfer_v1/argentina_PYPL_income',\n",
       " '/Users/frank/Documents/Research/gurufocus_transfer_v1/us_ROCC_cashflow',\n",
       " '/Users/frank/Documents/Research/gurufocus_transfer_v1/germany_QB3_balancesheet',\n",
       " '/Users/frank/Documents/Research/gurufocus_transfer_v1/germany_VROS_income',\n",
       " '/Users/frank/Documents/Research/gurufocus_transfer_v1/china_688020_cashflow',\n",
       " '/Users/frank/Documents/Research/gurufocus_transfer_v1/us_PXHI_balancesheet',\n",
       " '/Users/frank/Documents/Research/gurufocus_transfer_v1/china_300973_cashflow',\n",
       " '/Users/frank/Documents/Research/gurufocus_transfer_v1/malaysia_7094_balancesheet',\n",
       " '/Users/frank/Documents/Research/gurufocus_transfer_v1/mexico_IFC_cashflow',\n",
       " '/Users/frank/Documents/Research/gurufocus_transfer_v1/japan_7647_balancesheet',\n",
       " '/Users/frank/Documents/Research/gurufocus_transfer_v1/luxembourg_WLSR1_balancesheet',\n",
       " '/Users/frank/Documents/Research/gurufocus_transfer_v1/canada_BTI_cashflow',\n",
       " '/Users/frank/Documents/Research/gurufocus_transfer_v1/uk_0LZF_balancesheet',\n",
       " '/Users/frank/Documents/Research/gurufocus_transfer_v1/taiwan_6787_income',\n",
       " '/Users/frank/Documents/Research/gurufocus_transfer_v1/china_688617_income',\n",
       " '/Users/frank/Documents/Research/gurufocus_transfer_v1/us_ACAH_cashflow',\n",
       " '/Users/frank/Documents/Research/gurufocus_transfer_v1/us_SCVFF_balancesheet',\n",
       " '/Users/frank/Documents/Research/gurufocus_transfer_v1/china_2572_balancesheet',\n",
       " '/Users/frank/Documents/Research/gurufocus_transfer_v1/japan_8803_income',\n",
       " '/Users/frank/Documents/Research/gurufocus_transfer_v1/germany_CDG0_balancesheet',\n",
       " '/Users/frank/Documents/Research/gurufocus_transfer_v1/sweden_SWEM B_income',\n",
       " '/Users/frank/Documents/Research/gurufocus_transfer_v1/us_KELYB_income',\n",
       " '/Users/frank/Documents/Research/gurufocus_transfer_v1/china_603489_cashflow',\n",
       " '/Users/frank/Documents/Research/gurufocus_transfer_v1/china_600746_cashflow',\n",
       " '/Users/frank/Documents/Research/gurufocus_transfer_v1/thailand_CMR_income',\n",
       " '/Users/frank/Documents/Research/gurufocus_transfer_v1/japan_9470_income',\n",
       " '/Users/frank/Documents/Research/gurufocus_transfer_v1/hongkong_03319_balancesheet',\n",
       " '/Users/frank/Documents/Research/gurufocus_transfer_v1/india_521149_balancesheet',\n",
       " '/Users/frank/Documents/Research/gurufocus_transfer_v1/us_CMPX_income',\n",
       " '/Users/frank/Documents/Research/gurufocus_transfer_v1/germany_JC4_balancesheet',\n",
       " '/Users/frank/Documents/Research/gurufocus_transfer_v1/india_TINPLATE_cashflow',\n",
       " '/Users/frank/Documents/Research/gurufocus_transfer_v1/japan_7731_cashflow',\n",
       " '/Users/frank/Documents/Research/gurufocus_transfer_v1/poland_FMG_balancesheet',\n",
       " '/Users/frank/Documents/Research/gurufocus_transfer_v1/canada_FUZN_cashflow',\n",
       " '/Users/frank/Documents/Research/gurufocus_transfer_v1/uk_0I6Q_balancesheet',\n",
       " '/Users/frank/Documents/Research/gurufocus_transfer_v1/us_EIHDF_cashflow',\n",
       " '/Users/frank/Documents/Research/gurufocus_transfer_v1/morocco_COL_income',\n",
       " '/Users/frank/Documents/Research/gurufocus_transfer_v1/us_PYFRF_cashflow',\n",
       " '/Users/frank/Documents/Research/gurufocus_transfer_v1/germany_PV3B_cashflow',\n",
       " '/Users/frank/Documents/Research/gurufocus_transfer_v1/uk_0G5I_balancesheet',\n",
       " '/Users/frank/Documents/Research/gurufocus_transfer_v1/us_BYYLF_balancesheet',\n",
       " '/Users/frank/Documents/Research/gurufocus_transfer_v1/china_688778_income',\n",
       " '/Users/frank/Documents/Research/gurufocus_transfer_v1/us_CSWC_income',\n",
       " '/Users/frank/Documents/Research/gurufocus_transfer_v1/spain_YTAR_balancesheet',\n",
       " '/Users/frank/Documents/Research/gurufocus_transfer_v1/russia_TGKJ_balancesheet',\n",
       " '/Users/frank/Documents/Research/gurufocus_transfer_v1/china_100_balancesheet',\n",
       " '/Users/frank/Documents/Research/gurufocus_transfer_v1/india_539405_cashflow',\n",
       " '/Users/frank/Documents/Research/gurufocus_transfer_v1/us_ECCI_cashflow',\n",
       " '/Users/frank/Documents/Research/gurufocus_transfer_v1/germany_HBF_balancesheet',\n",
       " '/Users/frank/Documents/Research/gurufocus_transfer_v1/korea_001420_cashflow',\n",
       " '/Users/frank/Documents/Research/gurufocus_transfer_v1/uk_HWC_balancesheet',\n",
       " '/Users/frank/Documents/Research/gurufocus_transfer_v1/luxembourg_STHPT_income',\n",
       " '/Users/frank/Documents/Research/gurufocus_transfer_v1/slovakia_1TAT002E_cashflow',\n",
       " '/Users/frank/Documents/Research/gurufocus_transfer_v1/korea_189330_balancesheet',\n",
       " '/Users/frank/Documents/Research/gurufocus_transfer_v1/france_OREGE_income',\n",
       " '/Users/frank/Documents/Research/gurufocus_transfer_v1/uk_0MS9_cashflow',\n",
       " '/Users/frank/Documents/Research/gurufocus_transfer_v1/china_300839_balancesheet',\n",
       " '/Users/frank/Documents/Research/gurufocus_transfer_v1/germany_5B8_balancesheet',\n",
       " '/Users/frank/Documents/Research/gurufocus_transfer_v1/canada_HCC_balancesheet',\n",
       " '/Users/frank/Documents/Research/gurufocus_transfer_v1/canada_STEM_cashflow',\n",
       " '/Users/frank/Documents/Research/gurufocus_transfer_v1/malaysia_0173_cashflow',\n",
       " '/Users/frank/Documents/Research/gurufocus_transfer_v1/saudi_9515_cashflow',\n",
       " '/Users/frank/Documents/Research/gurufocus_transfer_v1/nigeria_WEMA_cashflow',\n",
       " '/Users/frank/Documents/Research/gurufocus_transfer_v1/oman_OMCI_income',\n",
       " '/Users/frank/Documents/Research/gurufocus_transfer_v1/morocco_IAM_cashflow',\n",
       " '/Users/frank/Documents/Research/gurufocus_transfer_v1/us_SZHFF_cashflow',\n",
       " '/Users/frank/Documents/Research/gurufocus_transfer_v1/germany_OTK_income',\n",
       " '/Users/frank/Documents/Research/gurufocus_transfer_v1/india_502216_balancesheet',\n",
       " '/Users/frank/Documents/Research/gurufocus_transfer_v1/india_509152_balancesheet',\n",
       " '/Users/frank/Documents/Research/gurufocus_transfer_v1/uk_0KCC_income',\n",
       " '/Users/frank/Documents/Research/gurufocus_transfer_v1/uk_CTEC_income',\n",
       " '/Users/frank/Documents/Research/gurufocus_transfer_v1/us_SRSA_cashflow',\n",
       " '/Users/frank/Documents/Research/gurufocus_transfer_v1/us_TRAUF_balancesheet',\n",
       " '/Users/frank/Documents/Research/gurufocus_transfer_v1/germany_RWE_balancesheet',\n",
       " '/Users/frank/Documents/Research/gurufocus_transfer_v1/us_CTPR_income',\n",
       " '/Users/frank/Documents/Research/gurufocus_transfer_v1/us_LTMCF_income',\n",
       " '/Users/frank/Documents/Research/gurufocus_transfer_v1/germany_3PC_income',\n",
       " '/Users/frank/Documents/Research/gurufocus_transfer_v1/india_RSWM_income',\n",
       " '/Users/frank/Documents/Research/gurufocus_transfer_v1/austria_BEKB_cashflow',\n",
       " '/Users/frank/Documents/Research/gurufocus_transfer_v1/germany_AZK0_income',\n",
       " '/Users/frank/Documents/Research/gurufocus_transfer_v1/australia_PXX_balancesheet',\n",
       " '/Users/frank/Documents/Research/gurufocus_transfer_v1/us_XAUMF_cashflow',\n",
       " '/Users/frank/Documents/Research/gurufocus_transfer_v1/india_TRIGYN_cashflow',\n",
       " '/Users/frank/Documents/Research/gurufocus_transfer_v1/taiwan_5425_income',\n",
       " '/Users/frank/Documents/Research/gurufocus_transfer_v1/us_WAFD_income',\n",
       " '/Users/frank/Documents/Research/gurufocus_transfer_v1/germany_73D_balancesheet',\n",
       " '/Users/frank/Documents/Research/gurufocus_transfer_v1/india_542934_cashflow',\n",
       " '/Users/frank/Documents/Research/gurufocus_transfer_v1/poland_STA_cashflow',\n",
       " '/Users/frank/Documents/Research/gurufocus_transfer_v1/china_601608_income',\n",
       " '/Users/frank/Documents/Research/gurufocus_transfer_v1/brazil_DEEC34_balancesheet',\n",
       " '/Users/frank/Documents/Research/gurufocus_transfer_v1/austria_MITT_cashflow',\n",
       " '/Users/frank/Documents/Research/gurufocus_transfer_v1/korea_327610_income',\n",
       " '/Users/frank/Documents/Research/gurufocus_transfer_v1/china_300093_balancesheet',\n",
       " '/Users/frank/Documents/Research/gurufocus_transfer_v1/germany_7HW_income',\n",
       " '/Users/frank/Documents/Research/gurufocus_transfer_v1/austria_SYNP_balancesheet',\n",
       " '/Users/frank/Documents/Research/gurufocus_transfer_v1/germany_AJN_balancesheet',\n",
       " '/Users/frank/Documents/Research/gurufocus_transfer_v1/us_BUDFF_balancesheet',\n",
       " '/Users/frank/Documents/Research/gurufocus_transfer_v1/australia_ACU_cashflow',\n",
       " '/Users/frank/Documents/Research/gurufocus_transfer_v1/uk_0RL4_income',\n",
       " '/Users/frank/Documents/Research/gurufocus_transfer_v1/india_501295_cashflow',\n",
       " '/Users/frank/Documents/Research/gurufocus_transfer_v1/us_BBAL_cashflow',\n",
       " '/Users/frank/Documents/Research/gurufocus_transfer_v1/france_MLITN_cashflow',\n",
       " '/Users/frank/Documents/Research/gurufocus_transfer_v1/germany_EF41_income',\n",
       " '/Users/frank/Documents/Research/gurufocus_transfer_v1/australia_FME_income',\n",
       " '/Users/frank/Documents/Research/gurufocus_transfer_v1/germany_SHI_balancesheet',\n",
       " '/Users/frank/Documents/Research/gurufocus_transfer_v1/brazil_WUNI34_balancesheet',\n",
       " '/Users/frank/Documents/Research/gurufocus_transfer_v1/korea_002787_income',\n",
       " '/Users/frank/Documents/Research/gurufocus_transfer_v1/poland_TRI_balancesheet',\n",
       " '/Users/frank/Documents/Research/gurufocus_transfer_v1/uk_IMM_balancesheet',\n",
       " '/Users/frank/Documents/Research/gurufocus_transfer_v1/china_688018_balancesheet',\n",
       " '/Users/frank/Documents/Research/gurufocus_transfer_v1/australia_EVS_income',\n",
       " '/Users/frank/Documents/Research/gurufocus_transfer_v1/us_JWCTF_cashflow',\n",
       " '/Users/frank/Documents/Research/gurufocus_transfer_v1/malaysia_0053_income',\n",
       " '/Users/frank/Documents/Research/gurufocus_transfer_v1/germany_GUW_cashflow',\n",
       " '/Users/frank/Documents/Research/gurufocus_transfer_v1/us_MRCIF_income',\n",
       " '/Users/frank/Documents/Research/gurufocus_transfer_v1/poland_IFI_income',\n",
       " '/Users/frank/Documents/Research/gurufocus_transfer_v1/china_600955_cashflow',\n",
       " '/Users/frank/Documents/Research/gurufocus_transfer_v1/france_CEN_income',\n",
       " '/Users/frank/Documents/Research/gurufocus_transfer_v1/germany_CC5_income',\n",
       " '/Users/frank/Documents/Research/gurufocus_transfer_v1/us_SAPGF_balancesheet',\n",
       " '/Users/frank/Documents/Research/gurufocus_transfer_v1/germany_XEN_balancesheet',\n",
       " '/Users/frank/Documents/Research/gurufocus_transfer_v1/greece_PLAKR_cashflow',\n",
       " '/Users/frank/Documents/Research/gurufocus_transfer_v1/uk_0OC6_income',\n",
       " '/Users/frank/Documents/Research/gurufocus_transfer_v1/germany_MCX0_balancesheet',\n",
       " '/Users/frank/Documents/Research/gurufocus_transfer_v1/india_500540_cashflow',\n",
       " '/Users/frank/Documents/Research/gurufocus_transfer_v1/hongkong_00760_income',\n",
       " '/Users/frank/Documents/Research/gurufocus_transfer_v1/canada_VSBY_cashflow',\n",
       " '/Users/frank/Documents/Research/gurufocus_transfer_v1/us_ENTEF_balancesheet',\n",
       " '/Users/frank/Documents/Research/gurufocus_transfer_v1/uk_0IU8_income',\n",
       " '/Users/frank/Documents/Research/gurufocus_transfer_v1/.ipynb_checkpoints']"
      ]
     },
     "execution_count": 35,
     "metadata": {},
     "output_type": "execute_result"
    }
   ],
   "source": [
    "non_repeat_path"
   ]
  },
  {
   "cell_type": "code",
   "execution_count": null,
   "id": "4ce1c359-b3f8-41e0-9c37-99900e8b86dd",
   "metadata": {},
   "outputs": [],
   "source": [
    "repeated_company_paths = list(dict.fromkeys(repeated_company_paths))"
   ]
  },
  {
   "cell_type": "code",
   "execution_count": null,
   "id": "495506fa-f06d-4840-b98d-37ab9cc0b846",
   "metadata": {},
   "outputs": [],
   "source": [
    "repeated_company_paths"
   ]
  },
  {
   "cell_type": "code",
   "execution_count": null,
   "id": "744d5a4a-5297-4224-b823-188a072a34b5",
   "metadata": {},
   "outputs": [],
   "source": [
    "tobe_merged = []\n",
    "for path in repeated_company_paths:\n",
    "    for file in os.listdir(path):\n",
    "        if file.endswith(fileExt_2):\n",
    "            tobe_merged.append((path, file))"
   ]
  },
  {
   "cell_type": "code",
   "execution_count": null,
   "id": "53d6aa87-fd42-4fbf-8034-d1e46ef05925",
   "metadata": {},
   "outputs": [],
   "source": [
    "tobe_merged"
   ]
  },
  {
   "cell_type": "code",
   "execution_count": null,
   "id": "6f01e679-2377-430d-a470-ea54826fabb1",
   "metadata": {},
   "outputs": [],
   "source": [
    "cur_path = os.getcwd()\n",
    "os.chdir('..')\n",
    "folder_name = pathlib.Path(os.getcwd(), 'Results')\n",
    "folder_name.mkdir(parents=True, exist_ok=True)\n",
    "result_path = os.getcwd() + '/Results'\n",
    "os.chdir(cur_path)"
   ]
  },
  {
   "cell_type": "code",
   "execution_count": null,
   "id": "5c3a2c60-a0e1-490d-ac51-259cbe05111c",
   "metadata": {},
   "outputs": [],
   "source": [
    "for path, file in tobe_merged:\n",
    "    print(path)"
   ]
  },
  {
   "cell_type": "code",
   "execution_count": null,
   "id": "f0adca16-e59b-42cd-b2dd-a0937c597d33",
   "metadata": {},
   "outputs": [],
   "source": [
    "path,file = tobe_merged[0]\n",
    "table2 = pd.read_csv(path+'/'+file)"
   ]
  },
  {
   "cell_type": "code",
   "execution_count": null,
   "id": "06b5e709-b972-4f16-8ba3-5f6762f1d007",
   "metadata": {},
   "outputs": [],
   "source": [
    "table2 = pd.read_csv(path+'/'+file, index_col=False)\n",
    "        # start\n",
    "\n",
    "d2_path = os.path.join(path, 'similarity_matrix_value.csv')\n",
    "df2 = pd.read_csv(d2_path,index_col=0)\n",
    "\n",
    "columns = df2.columns.values\n",
    "\n",
    "guru_columns = df2.index.values  # list of gurufocus columns\n",
    "table2_columns = table2.columns\n",
    "\n",
    "df2_array = np.array(df2)\n",
    "\n",
    "temp = np.argmax(df2_array, axis = 1)\n",
    "\n",
    "for i in range(len(df2_array[0])):\n",
    "    table2 = table2.rename(columns={table2_columns[i]: guru_columns[temp[i]]}, inplace=False)"
   ]
  },
  {
   "cell_type": "code",
   "execution_count": null,
   "id": "4183bcd0-e13b-449d-9210-413288430d09",
   "metadata": {},
   "outputs": [],
   "source": [
    "table2"
   ]
  },
  {
   "cell_type": "code",
   "execution_count": null,
   "id": "4ff04b0d-30e1-4bda-8576-15f9aeb001ac",
   "metadata": {},
   "outputs": [],
   "source": []
  },
  {
   "cell_type": "code",
   "execution_count": null,
   "id": "c6279662-46b0-4892-b7c9-bfba6bae57e8",
   "metadata": {},
   "outputs": [],
   "source": [
    "concated = []\n",
    "path_file_1 = path+'/'+file\n",
    "for path2, file2 in tobe_merged:\n",
    "    path_file_2 = path2+'/'+file2\n",
    "    if path_file_2 not in concated and path_file_2 != path_file_1:\n",
    "        if path_file_1.split('/')[-2].split('_')[-2] == path_file_2.split('/')[-2].split('_')[-2]:\n",
    "            table2_2 = pd.read_csv(path2+'/'+file2, index_col=False)\n",
    "            #start\n",
    "\n",
    "            d2_path2 = os.path.join(path2, 'similarity_matrix_value.csv')\n",
    "            df2_2 = pd.read_csv(d2_path2,index_col=0)\n",
    "\n",
    "            columns_2 = df2_2.columns.values\n",
    "\n",
    "            guru_columns_2 = df2_2.index.values  # list of gurufocus columns\n",
    "            table2_columns_2 = table2_2.columns\n",
    "\n",
    "            df2_array_2 = np.array(df2_2)\n",
    "\n",
    "            temp_2 = np.argmax(df2_array_2, axis = 1)\n",
    "\n",
    "            for i in range(len(df2_array_2[0])):\n",
    "                table2_2 = table2_2.rename(columns={table2_columns_2[i]: guru_columns_2[temp[i]]}, inplace=False)\n",
    "\n",
    "            #end\n",
    "\n",
    "            table2 = pd.concat([table2_2, table2], axis=1)\n",
    "            concated.append(path2+'/'+file2)\n",
    "concated.append(path+'/'+file)"
   ]
  },
  {
   "cell_type": "code",
   "execution_count": null,
   "id": "55443a5d-89b8-4a99-8c1c-0c39d9e27638",
   "metadata": {},
   "outputs": [],
   "source": [
    "table2"
   ]
  },
  {
   "cell_type": "code",
   "execution_count": null,
   "id": "4fb82a8c-48d5-47a6-b8f5-6fc2c3c020ec",
   "metadata": {},
   "outputs": [],
   "source": [
    "duplicate_header_mask = table2.columns.duplicated()\n",
    "duplicate_col_mask = table2.T.duplicated()\n",
    "overall_mask = np.bitwise_or(~duplicate_header_mask, ~duplicate_col_mask)\n",
    "table2 = table2.iloc[:,overall_mask.values]\n",
    "\n",
    "# table2_df = pd.DataFrame(table2)\n",
    "# table2_df = table2_df.T.drop_duplicates().T\n",
    "# table2_df.to_csv(\"result/\" + subdir.split('/')[-1] + \"_unique.csv\")\n",
    "\n",
    "# duplicate_cols = table2.columns[table2.columns.duplicated()]\n",
    "# table2.drop(columns=duplicate_cols, inplace=True)"
   ]
  },
  {
   "cell_type": "code",
   "execution_count": null,
   "id": "121b2fcb-4272-4c8d-9056-2dbc6049f3df",
   "metadata": {},
   "outputs": [],
   "source": [
    "pd.set_option('display.max_columns', None) \n",
    "pd.set_option('display.max_rows', None)"
   ]
  },
  {
   "cell_type": "code",
   "execution_count": null,
   "id": "7de4f73c-263e-4662-acd3-f3f5fda8077d",
   "metadata": {},
   "outputs": [],
   "source": [
    "table2"
   ]
  },
  {
   "cell_type": "code",
   "execution_count": null,
   "id": "5537f977-63c3-4275-bc04-6c5d67e0ae13",
   "metadata": {},
   "outputs": [],
   "source": [
    "new_folder_name = path_file_1.split('/')[-2].split('_')[-3] + '_' + path_file_1.split('/')[-2].split('_')[-2]\n",
    "gurufocus_path = os.path.dirname(path_file_1) + '/' + 'gurufocus.csv'\n",
    "df = pd.read_csv(gurufocus_path)\n",
    "# concat the columns.values that are in gurufocus but not in table2\n",
    "for col in df.columns.values:\n",
    "    if col not in table2.columns.values:\n",
    "        table2[col] = np.nan\n",
    "# print(table2.columns.values.shape)\n",
    "# print('------------')\n",
    "os.chdir(result_path)\n",
    "new_folder_path = pathlib.Path(os.getcwd(), new_folder_name)\n",
    "# new_folder_path.mkdir(parents=True, exist_ok=True)\n",
    "# os.chdir(new_folder_name)\n",
    "table2.replace('_PO_', 0, inplace=True)\n",
    "table2.fillna(0, inplace=True)\n",
    "table2.to_csv(new_folder_name + '.csv', index=False)\n",
    "os.chdir(cur_path)"
   ]
  },
  {
   "cell_type": "code",
   "execution_count": null,
   "id": "fbe5976c-adac-4b9b-8e60-dacab0020670",
   "metadata": {},
   "outputs": [],
   "source": [
    "table2"
   ]
  },
  {
   "cell_type": "code",
   "execution_count": null,
   "id": "6b8c6b70-4064-4bcf-8551-d8f064c5821f",
   "metadata": {},
   "outputs": [],
   "source": [
    "print(table2.shape)"
   ]
  },
  {
   "cell_type": "code",
   "execution_count": null,
   "id": "795461c2-137b-422e-8930-8ee43ca2bbe0",
   "metadata": {},
   "outputs": [],
   "source": [
    "zero_mask = []\n",
    "for each in table2.columns.values:\n",
    "#     print('each: ', each)\n",
    "    if each == \"0\":\n",
    "        zero_mask.append(False)\n",
    "    else:\n",
    "        zero_mask.append(True)\n",
    "table2 = table2.iloc[:,zero_mask]"
   ]
  },
  {
   "cell_type": "code",
   "execution_count": null,
   "id": "ca7c8b9f-5f51-489f-ae4e-80a9355a32e0",
   "metadata": {},
   "outputs": [],
   "source": [
    "table2"
   ]
  },
  {
   "cell_type": "code",
   "execution_count": null,
   "id": "041bb282-8e85-4f43-a421-aefe53facd9e",
   "metadata": {},
   "outputs": [],
   "source": [
    "print(table2.shape)"
   ]
  },
  {
   "cell_type": "code",
   "execution_count": null,
   "id": "e643ba85-5934-406a-a2c4-20a89bb8619d",
   "metadata": {},
   "outputs": [],
   "source": [
    "duplicates = [item for item, count in collections.Counter(table2.columns.values).items() if count > 1]"
   ]
  },
  {
   "cell_type": "code",
   "execution_count": null,
   "id": "19418a62-3ae3-467f-9524-d67e386538f3",
   "metadata": {},
   "outputs": [],
   "source": [
    "duplicates"
   ]
  },
  {
   "cell_type": "code",
   "execution_count": null,
   "id": "d4e67cb1-15fa-43c4-ac4c-9dc3e7f44dd2",
   "metadata": {},
   "outputs": [],
   "source": [
    "print(len(duplicates))"
   ]
  },
  {
   "cell_type": "code",
   "execution_count": null,
   "id": "35f6e985-996a-47ee-8741-d9436bbb5ce6",
   "metadata": {},
   "outputs": [],
   "source": [
    "310-21"
   ]
  },
  {
   "cell_type": "code",
   "execution_count": null,
   "id": "2a63b225-56fa-4f6b-823e-f013e53c145e",
   "metadata": {},
   "outputs": [],
   "source": [
    "df = table2.loc[:,~table2.columns.duplicated()].copy()"
   ]
  },
  {
   "cell_type": "code",
   "execution_count": null,
   "id": "4db59957-76f8-460a-8aa5-149f5daa08f9",
   "metadata": {},
   "outputs": [],
   "source": [
    "df"
   ]
  },
  {
   "cell_type": "code",
   "execution_count": null,
   "id": "67db1833-c46d-468f-a9d5-c7bc6e0cd3a0",
   "metadata": {},
   "outputs": [],
   "source": [
    "df.shape"
   ]
  },
  {
   "cell_type": "code",
   "execution_count": null,
   "id": "cf7d95f0-0d68-400c-9ec1-57ad5adefa3b",
   "metadata": {},
   "outputs": [],
   "source": []
  }
 ],
 "metadata": {
  "kernelspec": {
   "display_name": "Python 3",
   "language": "python",
   "name": "python3"
  },
  "language_info": {
   "codemirror_mode": {
    "name": "ipython",
    "version": 3
   },
   "file_extension": ".py",
   "mimetype": "text/x-python",
   "name": "python",
   "nbconvert_exporter": "python",
   "pygments_lexer": "ipython3",
   "version": "3.9.4"
  }
 },
 "nbformat": 4,
 "nbformat_minor": 5
}
